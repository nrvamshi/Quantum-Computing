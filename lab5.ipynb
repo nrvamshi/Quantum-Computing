{
 "cells": [
  {
   "cell_type": "code",
   "execution_count": 1,
   "id": "7d2fce57-c160-4b4e-9817-f2f4f83e0146",
   "metadata": {
    "tags": []
   },
   "outputs": [],
   "source": [
    "# Importing standard Qiskit libraries\n",
    "from qiskit import QuantumCircuit, transpile\n",
    "from qiskit.tools.jupyter import *\n",
    "from qiskit.visualization import *\n",
    "from ibm_quantum_widgets import *\n",
    "from qiskit_aer import AerSimulator\n",
    "\n",
    "# qiskit-ibmq-provider has been deprecated.\n",
    "# Please see the Migration Guides in https://ibm.biz/provider_migration_guide for more detail.\n",
    "from qiskit_ibm_runtime import QiskitRuntimeService, Sampler, Estimator, Session, Options\n",
    "\n",
    "# Loading your IBM Quantum account(s)\n",
    "service = QiskitRuntimeService(channel=\"ibm_quantum\")\n",
    "\n",
    "# Invoke a primitive inside a session. For more details see https://qiskit.org/documentation/partners/qiskit_ibm_runtime/tutorials.html\n",
    "# with Session(backend=service.backend(\"ibmq_qasm_simulator\")):\n",
    "#     result = Sampler().run(circuits).result()"
   ]
  },
  {
   "cell_type": "code",
   "execution_count": 5,
   "id": "ffc79407-2d7e-43df-8439-d06ca21a17b4",
   "metadata": {
    "tags": []
   },
   "outputs": [
    {
     "name": "stdout",
     "output_type": "stream",
     "text": [
      "Traceback \u001b[1;36m(most recent call last)\u001b[0m:\n",
      "\u001b[0m  Cell \u001b[0;32mIn[5], line 4\u001b[0m\n",
      "    visualize_transition(qc,trace=True,saveas=\"1 xgate.mp4\",fpg=120,spg=2)\u001b[0m\n",
      "\u001b[0m  File \u001b[0;32m/opt/conda/lib/python3.10/site-packages/qiskit/visualization/transition_visualization.py:361\u001b[0m in \u001b[0;35mvisualize_transition\u001b[0m\n",
      "    return HTML(ani.to_jshtml())\u001b[0m\n",
      "\u001b[0m  File \u001b[0;32m/opt/conda/lib/python3.10/site-packages/matplotlib/animation.py:1330\u001b[0m in \u001b[0;35mto_jshtml\u001b[0m\n",
      "    self.save(str(path), writer=writer)\u001b[0m\n",
      "\u001b[0m  File \u001b[0;32m/opt/conda/lib/python3.10/site-packages/matplotlib/animation.py:1082\u001b[0m in \u001b[0;35msave\u001b[0m\n",
      "    anim._draw_next_frame(d, blit=False)\u001b[0m\n",
      "\u001b[0m  File \u001b[0;32m/opt/conda/lib/python3.10/site-packages/matplotlib/animation.py:1117\u001b[0m in \u001b[0;35m_draw_next_frame\u001b[0m\n",
      "    self._draw_frame(framedata)\u001b[0m\n",
      "\u001b[0m  File \u001b[0;32m/opt/conda/lib/python3.10/site-packages/matplotlib/animation.py:1744\u001b[0m in \u001b[0;35m_draw_frame\u001b[0m\n",
      "    self._drawn_artists = self._func(framedata, *self._args)\u001b[0m\n",
      "\u001b[0m  File \u001b[0;32m/opt/conda/lib/python3.10/site-packages/qiskit/visualization/transition_visualization.py:336\u001b[0m in \u001b[0;35manimate\u001b[0m\n",
      "    sphere.make_sphere()\u001b[0m\n",
      "\u001b[0m  File \u001b[0;32m/opt/conda/lib/python3.10/site-packages/qiskit/visualization/bloch.py:401\u001b[0m in \u001b[0;35mmake_sphere\u001b[0m\n",
      "    self.render()\u001b[0m\n",
      "\u001b[0m  File \u001b[0;32m/opt/conda/lib/python3.10/site-packages/qiskit/visualization/bloch.py:448\u001b[0m in \u001b[0;35mrender\u001b[0m\n",
      "    self.plot_points()\u001b[0m\n",
      "\u001b[1;36m  File \u001b[1;32m/opt/conda/lib/python3.10/site-packages/qiskit/visualization/bloch.py:625\u001b[1;36m in \u001b[1;35mplot_points\u001b[1;36m\n",
      "\u001b[1;33m    if any(abs(dist - dist[0]) / dist[0] > 1e-12):\u001b[1;36m\n",
      "\u001b[1;31mIndexError\u001b[0m\u001b[1;31m:\u001b[0m list index out of range\n",
      "\n",
      "Use %tb to get the full traceback.\n"
     ]
    },
    {
     "data": {
      "text/html": [
       "\n",
       "<style>\n",
       ".button {\n",
       "  border: none;\n",
       "  color: white;\n",
       "  padding: 4px 8px;\n",
       "  text-align: center;\n",
       "  text-decoration: none;\n",
       "  display: inline-block;\n",
       "  font-size: 12px;\n",
       "  margin: 4px 2px;\n",
       "  transition-duration: 0.2s;\n",
       "  cursor: pointer;\n",
       "}\n",
       ".iqx-button {\n",
       "  background-color: #0f62fe; \n",
       "  color: white; \n",
       "}\n",
       ".iqx-button:hover {\n",
       "  background-color: #0043ce;\n",
       "  color: white;\n",
       "}\n",
       "</style>\n",
       "<a href=\"https://stackoverflow.com/search?q=IndexError: list index out of range\" target='_blank'><button class='button iqx-button'>Search for solution online</button></a>\n"
      ],
      "text/plain": [
       "<IPython.core.display.HTML object>"
      ]
     },
     "metadata": {},
     "output_type": "display_data"
    }
   ],
   "source": [
    "qc=QuantumCircuit(1)\n",
    "qc.x(0)\n",
    "from qiskit.visualization import visualize_transition\n",
    "visualize_transition(qc,trace=True,saveas=\"1 xgate.mp4\",fpg=120,spg=2)"
   ]
  },
  {
   "cell_type": "code",
   "execution_count": 8,
   "id": "7f8aa1ef-68a7-473d-baba-674e41591a86",
   "metadata": {
    "tags": []
   },
   "outputs": [
    {
     "name": "stdout",
     "output_type": "stream",
     "text": [
      "Traceback \u001b[1;36m(most recent call last)\u001b[0m:\n",
      "\u001b[0m  Cell \u001b[0;32mIn[8], line 4\u001b[0m\n",
      "    visualize_transition(qc,trace=True,saveas=\"1 xgate.mp4\",fpg=120,spg=2)\u001b[0m\n",
      "\u001b[0m  File \u001b[0;32m/opt/conda/lib/python3.10/site-packages/qiskit/visualization/transition_visualization.py:361\u001b[0m in \u001b[0;35mvisualize_transition\u001b[0m\n",
      "    return HTML(ani.to_jshtml())\u001b[0m\n",
      "\u001b[0m  File \u001b[0;32m/opt/conda/lib/python3.10/site-packages/matplotlib/animation.py:1330\u001b[0m in \u001b[0;35mto_jshtml\u001b[0m\n",
      "    self.save(str(path), writer=writer)\u001b[0m\n",
      "\u001b[0m  File \u001b[0;32m/opt/conda/lib/python3.10/site-packages/matplotlib/animation.py:1082\u001b[0m in \u001b[0;35msave\u001b[0m\n",
      "    anim._draw_next_frame(d, blit=False)\u001b[0m\n",
      "\u001b[0m  File \u001b[0;32m/opt/conda/lib/python3.10/site-packages/matplotlib/animation.py:1117\u001b[0m in \u001b[0;35m_draw_next_frame\u001b[0m\n",
      "    self._draw_frame(framedata)\u001b[0m\n",
      "\u001b[0m  File \u001b[0;32m/opt/conda/lib/python3.10/site-packages/matplotlib/animation.py:1744\u001b[0m in \u001b[0;35m_draw_frame\u001b[0m\n",
      "    self._drawn_artists = self._func(framedata, *self._args)\u001b[0m\n",
      "\u001b[0m  File \u001b[0;32m/opt/conda/lib/python3.10/site-packages/qiskit/visualization/transition_visualization.py:336\u001b[0m in \u001b[0;35manimate\u001b[0m\n",
      "    sphere.make_sphere()\u001b[0m\n",
      "\u001b[0m  File \u001b[0;32m/opt/conda/lib/python3.10/site-packages/qiskit/visualization/bloch.py:401\u001b[0m in \u001b[0;35mmake_sphere\u001b[0m\n",
      "    self.render()\u001b[0m\n",
      "\u001b[0m  File \u001b[0;32m/opt/conda/lib/python3.10/site-packages/qiskit/visualization/bloch.py:448\u001b[0m in \u001b[0;35mrender\u001b[0m\n",
      "    self.plot_points()\u001b[0m\n",
      "\u001b[1;36m  File \u001b[1;32m/opt/conda/lib/python3.10/site-packages/qiskit/visualization/bloch.py:625\u001b[1;36m in \u001b[1;35mplot_points\u001b[1;36m\n",
      "\u001b[1;33m    if any(abs(dist - dist[0]) / dist[0] > 1e-12):\u001b[1;36m\n",
      "\u001b[1;31mIndexError\u001b[0m\u001b[1;31m:\u001b[0m list index out of range\n",
      "\n",
      "Use %tb to get the full traceback.\n"
     ]
    },
    {
     "data": {
      "text/html": [
       "\n",
       "<style>\n",
       ".button {\n",
       "  border: none;\n",
       "  color: white;\n",
       "  padding: 4px 8px;\n",
       "  text-align: center;\n",
       "  text-decoration: none;\n",
       "  display: inline-block;\n",
       "  font-size: 12px;\n",
       "  margin: 4px 2px;\n",
       "  transition-duration: 0.2s;\n",
       "  cursor: pointer;\n",
       "}\n",
       ".iqx-button {\n",
       "  background-color: #0f62fe; \n",
       "  color: white; \n",
       "}\n",
       ".iqx-button:hover {\n",
       "  background-color: #0043ce;\n",
       "  color: white;\n",
       "}\n",
       "</style>\n",
       "<a href=\"https://stackoverflow.com/search?q=IndexError: list index out of range\" target='_blank'><button class='button iqx-button'>Search for solution online</button></a>\n"
      ],
      "text/plain": [
       "<IPython.core.display.HTML object>"
      ]
     },
     "metadata": {},
     "output_type": "display_data"
    }
   ],
   "source": [
    "qc=QuantumCircuit(1)\n",
    "qc.y(0)\n",
    "from qiskit.visualization import visualize_transition\n",
    "visualize_transition(qc,trace=True,saveas=\"1 xgate.mp4\",fpg=120,spg=2)"
   ]
  },
  {
   "cell_type": "code",
   "execution_count": 6,
   "id": "cd62ce67-a970-437e-b955-53ca2f018c1d",
   "metadata": {
    "tags": []
   },
   "outputs": [
    {
     "name": "stdout",
     "output_type": "stream",
     "text": [
      "Traceback \u001b[1;36m(most recent call last)\u001b[0m:\n",
      "\u001b[0m  Cell \u001b[0;32mIn[6], line 4\u001b[0m\n",
      "    visualize_transition(qc,trace=True,saveas=\"1 xgate.mp4\",fpg=120,spg=2)\u001b[0m\n",
      "\u001b[0m  File \u001b[0;32m/opt/conda/lib/python3.10/site-packages/qiskit/visualization/transition_visualization.py:361\u001b[0m in \u001b[0;35mvisualize_transition\u001b[0m\n",
      "    return HTML(ani.to_jshtml())\u001b[0m\n",
      "\u001b[0m  File \u001b[0;32m/opt/conda/lib/python3.10/site-packages/matplotlib/animation.py:1330\u001b[0m in \u001b[0;35mto_jshtml\u001b[0m\n",
      "    self.save(str(path), writer=writer)\u001b[0m\n",
      "\u001b[0m  File \u001b[0;32m/opt/conda/lib/python3.10/site-packages/matplotlib/animation.py:1082\u001b[0m in \u001b[0;35msave\u001b[0m\n",
      "    anim._draw_next_frame(d, blit=False)\u001b[0m\n",
      "\u001b[0m  File \u001b[0;32m/opt/conda/lib/python3.10/site-packages/matplotlib/animation.py:1117\u001b[0m in \u001b[0;35m_draw_next_frame\u001b[0m\n",
      "    self._draw_frame(framedata)\u001b[0m\n",
      "\u001b[0m  File \u001b[0;32m/opt/conda/lib/python3.10/site-packages/matplotlib/animation.py:1744\u001b[0m in \u001b[0;35m_draw_frame\u001b[0m\n",
      "    self._drawn_artists = self._func(framedata, *self._args)\u001b[0m\n",
      "\u001b[0m  File \u001b[0;32m/opt/conda/lib/python3.10/site-packages/qiskit/visualization/transition_visualization.py:336\u001b[0m in \u001b[0;35manimate\u001b[0m\n",
      "    sphere.make_sphere()\u001b[0m\n",
      "\u001b[0m  File \u001b[0;32m/opt/conda/lib/python3.10/site-packages/qiskit/visualization/bloch.py:401\u001b[0m in \u001b[0;35mmake_sphere\u001b[0m\n",
      "    self.render()\u001b[0m\n",
      "\u001b[0m  File \u001b[0;32m/opt/conda/lib/python3.10/site-packages/qiskit/visualization/bloch.py:448\u001b[0m in \u001b[0;35mrender\u001b[0m\n",
      "    self.plot_points()\u001b[0m\n",
      "\u001b[1;36m  File \u001b[1;32m/opt/conda/lib/python3.10/site-packages/qiskit/visualization/bloch.py:625\u001b[1;36m in \u001b[1;35mplot_points\u001b[1;36m\n",
      "\u001b[1;33m    if any(abs(dist - dist[0]) / dist[0] > 1e-12):\u001b[1;36m\n",
      "\u001b[1;31mIndexError\u001b[0m\u001b[1;31m:\u001b[0m list index out of range\n",
      "\n",
      "Use %tb to get the full traceback.\n"
     ]
    },
    {
     "data": {
      "text/html": [
       "\n",
       "<style>\n",
       ".button {\n",
       "  border: none;\n",
       "  color: white;\n",
       "  padding: 4px 8px;\n",
       "  text-align: center;\n",
       "  text-decoration: none;\n",
       "  display: inline-block;\n",
       "  font-size: 12px;\n",
       "  margin: 4px 2px;\n",
       "  transition-duration: 0.2s;\n",
       "  cursor: pointer;\n",
       "}\n",
       ".iqx-button {\n",
       "  background-color: #0f62fe; \n",
       "  color: white; \n",
       "}\n",
       ".iqx-button:hover {\n",
       "  background-color: #0043ce;\n",
       "  color: white;\n",
       "}\n",
       "</style>\n",
       "<a href=\"https://stackoverflow.com/search?q=IndexError: list index out of range\" target='_blank'><button class='button iqx-button'>Search for solution online</button></a>\n"
      ],
      "text/plain": [
       "<IPython.core.display.HTML object>"
      ]
     },
     "metadata": {},
     "output_type": "display_data"
    }
   ],
   "source": [
    "qc=QuantumCircuit(1)\n",
    "qc.h(0)\n",
    "from qiskit.visualization import visualize_transition\n",
    "visualize_transition(qc,trace=True,saveas=\"1 xgate.mp4\",fpg=120,spg=2)"
   ]
  },
  {
   "cell_type": "code",
   "execution_count": 7,
   "id": "0881cee4-8411-466e-89a7-3ede190f307d",
   "metadata": {
    "tags": []
   },
   "outputs": [
    {
     "name": "stdout",
     "output_type": "stream",
     "text": [
      "Traceback \u001b[1;36m(most recent call last)\u001b[0m:\n",
      "\u001b[0m  Cell \u001b[0;32mIn[7], line 5\u001b[0m\n",
      "    visualize_transition(qc,trace=True,saveas=\"1 xgate.mp4\",fpg=120,spg=2)\u001b[0m\n",
      "\u001b[0m  File \u001b[0;32m/opt/conda/lib/python3.10/site-packages/qiskit/visualization/transition_visualization.py:361\u001b[0m in \u001b[0;35mvisualize_transition\u001b[0m\n",
      "    return HTML(ani.to_jshtml())\u001b[0m\n",
      "\u001b[0m  File \u001b[0;32m/opt/conda/lib/python3.10/site-packages/matplotlib/animation.py:1330\u001b[0m in \u001b[0;35mto_jshtml\u001b[0m\n",
      "    self.save(str(path), writer=writer)\u001b[0m\n",
      "\u001b[0m  File \u001b[0;32m/opt/conda/lib/python3.10/site-packages/matplotlib/animation.py:1082\u001b[0m in \u001b[0;35msave\u001b[0m\n",
      "    anim._draw_next_frame(d, blit=False)\u001b[0m\n",
      "\u001b[0m  File \u001b[0;32m/opt/conda/lib/python3.10/site-packages/matplotlib/animation.py:1117\u001b[0m in \u001b[0;35m_draw_next_frame\u001b[0m\n",
      "    self._draw_frame(framedata)\u001b[0m\n",
      "\u001b[0m  File \u001b[0;32m/opt/conda/lib/python3.10/site-packages/matplotlib/animation.py:1744\u001b[0m in \u001b[0;35m_draw_frame\u001b[0m\n",
      "    self._drawn_artists = self._func(framedata, *self._args)\u001b[0m\n",
      "\u001b[0m  File \u001b[0;32m/opt/conda/lib/python3.10/site-packages/qiskit/visualization/transition_visualization.py:336\u001b[0m in \u001b[0;35manimate\u001b[0m\n",
      "    sphere.make_sphere()\u001b[0m\n",
      "\u001b[0m  File \u001b[0;32m/opt/conda/lib/python3.10/site-packages/qiskit/visualization/bloch.py:401\u001b[0m in \u001b[0;35mmake_sphere\u001b[0m\n",
      "    self.render()\u001b[0m\n",
      "\u001b[0m  File \u001b[0;32m/opt/conda/lib/python3.10/site-packages/qiskit/visualization/bloch.py:448\u001b[0m in \u001b[0;35mrender\u001b[0m\n",
      "    self.plot_points()\u001b[0m\n",
      "\u001b[1;36m  File \u001b[1;32m/opt/conda/lib/python3.10/site-packages/qiskit/visualization/bloch.py:625\u001b[1;36m in \u001b[1;35mplot_points\u001b[1;36m\n",
      "\u001b[1;33m    if any(abs(dist - dist[0]) / dist[0] > 1e-12):\u001b[1;36m\n",
      "\u001b[1;31mIndexError\u001b[0m\u001b[1;31m:\u001b[0m list index out of range\n",
      "\n",
      "Use %tb to get the full traceback.\n"
     ]
    },
    {
     "data": {
      "text/html": [
       "\n",
       "<style>\n",
       ".button {\n",
       "  border: none;\n",
       "  color: white;\n",
       "  padding: 4px 8px;\n",
       "  text-align: center;\n",
       "  text-decoration: none;\n",
       "  display: inline-block;\n",
       "  font-size: 12px;\n",
       "  margin: 4px 2px;\n",
       "  transition-duration: 0.2s;\n",
       "  cursor: pointer;\n",
       "}\n",
       ".iqx-button {\n",
       "  background-color: #0f62fe; \n",
       "  color: white; \n",
       "}\n",
       ".iqx-button:hover {\n",
       "  background-color: #0043ce;\n",
       "  color: white;\n",
       "}\n",
       "</style>\n",
       "<a href=\"https://stackoverflow.com/search?q=IndexError: list index out of range\" target='_blank'><button class='button iqx-button'>Search for solution online</button></a>\n"
      ],
      "text/plain": [
       "<IPython.core.display.HTML object>"
      ]
     },
     "metadata": {},
     "output_type": "display_data"
    }
   ],
   "source": [
    "qc=QuantumCircuit(1)\n",
    "qc.x(0)\n",
    "qc.x(0)\n",
    "from qiskit.visualization import visualize_transition\n",
    "visualize_transition(qc,trace=True,saveas=\"1 xgate.mp4\",fpg=120,spg=2)"
   ]
  },
  {
   "cell_type": "code",
   "execution_count": 9,
   "id": "90479f84-3dd7-445c-852d-058ffe03938f",
   "metadata": {
    "tags": []
   },
   "outputs": [
    {
     "name": "stdout",
     "output_type": "stream",
     "text": [
      "Traceback \u001b[1;36m(most recent call last)\u001b[0m:\n",
      "\u001b[0m  Cell \u001b[0;32mIn[9], line 5\u001b[0m\n",
      "    visualize_transition(qc,trace=True,saveas=\"1 xgate.mp4\",fpg=120,spg=2)\u001b[0m\n",
      "\u001b[0m  File \u001b[0;32m/opt/conda/lib/python3.10/site-packages/qiskit/visualization/transition_visualization.py:361\u001b[0m in \u001b[0;35mvisualize_transition\u001b[0m\n",
      "    return HTML(ani.to_jshtml())\u001b[0m\n",
      "\u001b[0m  File \u001b[0;32m/opt/conda/lib/python3.10/site-packages/matplotlib/animation.py:1330\u001b[0m in \u001b[0;35mto_jshtml\u001b[0m\n",
      "    self.save(str(path), writer=writer)\u001b[0m\n",
      "\u001b[0m  File \u001b[0;32m/opt/conda/lib/python3.10/site-packages/matplotlib/animation.py:1082\u001b[0m in \u001b[0;35msave\u001b[0m\n",
      "    anim._draw_next_frame(d, blit=False)\u001b[0m\n",
      "\u001b[0m  File \u001b[0;32m/opt/conda/lib/python3.10/site-packages/matplotlib/animation.py:1117\u001b[0m in \u001b[0;35m_draw_next_frame\u001b[0m\n",
      "    self._draw_frame(framedata)\u001b[0m\n",
      "\u001b[0m  File \u001b[0;32m/opt/conda/lib/python3.10/site-packages/matplotlib/animation.py:1744\u001b[0m in \u001b[0;35m_draw_frame\u001b[0m\n",
      "    self._drawn_artists = self._func(framedata, *self._args)\u001b[0m\n",
      "\u001b[0m  File \u001b[0;32m/opt/conda/lib/python3.10/site-packages/qiskit/visualization/transition_visualization.py:336\u001b[0m in \u001b[0;35manimate\u001b[0m\n",
      "    sphere.make_sphere()\u001b[0m\n",
      "\u001b[0m  File \u001b[0;32m/opt/conda/lib/python3.10/site-packages/qiskit/visualization/bloch.py:401\u001b[0m in \u001b[0;35mmake_sphere\u001b[0m\n",
      "    self.render()\u001b[0m\n",
      "\u001b[0m  File \u001b[0;32m/opt/conda/lib/python3.10/site-packages/qiskit/visualization/bloch.py:448\u001b[0m in \u001b[0;35mrender\u001b[0m\n",
      "    self.plot_points()\u001b[0m\n",
      "\u001b[1;36m  File \u001b[1;32m/opt/conda/lib/python3.10/site-packages/qiskit/visualization/bloch.py:625\u001b[1;36m in \u001b[1;35mplot_points\u001b[1;36m\n",
      "\u001b[1;33m    if any(abs(dist - dist[0]) / dist[0] > 1e-12):\u001b[1;36m\n",
      "\u001b[1;31mIndexError\u001b[0m\u001b[1;31m:\u001b[0m list index out of range\n",
      "\n",
      "Use %tb to get the full traceback.\n"
     ]
    },
    {
     "data": {
      "text/html": [
       "\n",
       "<style>\n",
       ".button {\n",
       "  border: none;\n",
       "  color: white;\n",
       "  padding: 4px 8px;\n",
       "  text-align: center;\n",
       "  text-decoration: none;\n",
       "  display: inline-block;\n",
       "  font-size: 12px;\n",
       "  margin: 4px 2px;\n",
       "  transition-duration: 0.2s;\n",
       "  cursor: pointer;\n",
       "}\n",
       ".iqx-button {\n",
       "  background-color: #0f62fe; \n",
       "  color: white; \n",
       "}\n",
       ".iqx-button:hover {\n",
       "  background-color: #0043ce;\n",
       "  color: white;\n",
       "}\n",
       "</style>\n",
       "<a href=\"https://stackoverflow.com/search?q=IndexError: list index out of range\" target='_blank'><button class='button iqx-button'>Search for solution online</button></a>\n"
      ],
      "text/plain": [
       "<IPython.core.display.HTML object>"
      ]
     },
     "metadata": {},
     "output_type": "display_data"
    }
   ],
   "source": [
    "qc=QuantumCircuit(1)\n",
    "qc.h(0)\n",
    "qc.s(0)\n",
    "from qiskit.visualization import visualize_transition\n",
    "visualize_transition(qc,trace=True,saveas=\"1 xgate.mp4\",fpg=120,spg=2)"
   ]
  },
  {
   "cell_type": "code",
   "execution_count": 11,
   "id": "d6a47f97-9c7c-476a-8d2a-0c5953e0707a",
   "metadata": {
    "tags": []
   },
   "outputs": [
    {
     "name": "stdout",
     "output_type": "stream",
     "text": [
      "Traceback \u001b[1;36m(most recent call last)\u001b[0m:\n",
      "\u001b[0m  Cell \u001b[0;32mIn[11], line 6\u001b[0m\n",
      "    visualize_transition(qc,trace=True,saveas=\"1 xgate.mp4\",fpg=120,spg=2)\u001b[0m\n",
      "\u001b[0m  File \u001b[0;32m/opt/conda/lib/python3.10/site-packages/qiskit/visualization/transition_visualization.py:361\u001b[0m in \u001b[0;35mvisualize_transition\u001b[0m\n",
      "    return HTML(ani.to_jshtml())\u001b[0m\n",
      "\u001b[0m  File \u001b[0;32m/opt/conda/lib/python3.10/site-packages/matplotlib/animation.py:1330\u001b[0m in \u001b[0;35mto_jshtml\u001b[0m\n",
      "    self.save(str(path), writer=writer)\u001b[0m\n",
      "\u001b[0m  File \u001b[0;32m/opt/conda/lib/python3.10/site-packages/matplotlib/animation.py:1082\u001b[0m in \u001b[0;35msave\u001b[0m\n",
      "    anim._draw_next_frame(d, blit=False)\u001b[0m\n",
      "\u001b[0m  File \u001b[0;32m/opt/conda/lib/python3.10/site-packages/matplotlib/animation.py:1117\u001b[0m in \u001b[0;35m_draw_next_frame\u001b[0m\n",
      "    self._draw_frame(framedata)\u001b[0m\n",
      "\u001b[0m  File \u001b[0;32m/opt/conda/lib/python3.10/site-packages/matplotlib/animation.py:1744\u001b[0m in \u001b[0;35m_draw_frame\u001b[0m\n",
      "    self._drawn_artists = self._func(framedata, *self._args)\u001b[0m\n",
      "\u001b[0m  File \u001b[0;32m/opt/conda/lib/python3.10/site-packages/qiskit/visualization/transition_visualization.py:336\u001b[0m in \u001b[0;35manimate\u001b[0m\n",
      "    sphere.make_sphere()\u001b[0m\n",
      "\u001b[0m  File \u001b[0;32m/opt/conda/lib/python3.10/site-packages/qiskit/visualization/bloch.py:401\u001b[0m in \u001b[0;35mmake_sphere\u001b[0m\n",
      "    self.render()\u001b[0m\n",
      "\u001b[0m  File \u001b[0;32m/opt/conda/lib/python3.10/site-packages/qiskit/visualization/bloch.py:448\u001b[0m in \u001b[0;35mrender\u001b[0m\n",
      "    self.plot_points()\u001b[0m\n",
      "\u001b[1;36m  File \u001b[1;32m/opt/conda/lib/python3.10/site-packages/qiskit/visualization/bloch.py:625\u001b[1;36m in \u001b[1;35mplot_points\u001b[1;36m\n",
      "\u001b[1;33m    if any(abs(dist - dist[0]) / dist[0] > 1e-12):\u001b[1;36m\n",
      "\u001b[1;31mIndexError\u001b[0m\u001b[1;31m:\u001b[0m list index out of range\n",
      "\n",
      "Use %tb to get the full traceback.\n"
     ]
    },
    {
     "data": {
      "text/html": [
       "\n",
       "<style>\n",
       ".button {\n",
       "  border: none;\n",
       "  color: white;\n",
       "  padding: 4px 8px;\n",
       "  text-align: center;\n",
       "  text-decoration: none;\n",
       "  display: inline-block;\n",
       "  font-size: 12px;\n",
       "  margin: 4px 2px;\n",
       "  transition-duration: 0.2s;\n",
       "  cursor: pointer;\n",
       "}\n",
       ".iqx-button {\n",
       "  background-color: #0f62fe; \n",
       "  color: white; \n",
       "}\n",
       ".iqx-button:hover {\n",
       "  background-color: #0043ce;\n",
       "  color: white;\n",
       "}\n",
       "</style>\n",
       "<a href=\"https://stackoverflow.com/search?q=IndexError: list index out of range\" target='_blank'><button class='button iqx-button'>Search for solution online</button></a>\n"
      ],
      "text/plain": [
       "<IPython.core.display.HTML object>"
      ]
     },
     "metadata": {},
     "output_type": "display_data"
    }
   ],
   "source": [
    "qc=QuantumCircuit(1)\n",
    "qc.h(0)\n",
    "qc.t(0)\n",
    "qc.t(0)\n",
    "from qiskit.visualization import visualize_transition\n",
    "visualize_transition(qc,trace=True,saveas=\"1 xgate.mp4\",fpg=120,spg=2)"
   ]
  },
  {
   "cell_type": "code",
   "execution_count": 10,
   "id": "fd12926a-661d-4f16-b57d-f3bd58671cbb",
   "metadata": {
    "tags": []
   },
   "outputs": [
    {
     "name": "stdout",
     "output_type": "stream",
     "text": [
      "Traceback \u001b[1;36m(most recent call last)\u001b[0m:\n",
      "\u001b[0m  Cell \u001b[0;32mIn[10], line 4\u001b[0m\n",
      "    visualize_transition(qc,trace=True,saveas=\"1 xgate.mp4\",fpg=120,spg=2)\u001b[0m\n",
      "\u001b[0m  File \u001b[0;32m/opt/conda/lib/python3.10/site-packages/qiskit/visualization/transition_visualization.py:361\u001b[0m in \u001b[0;35mvisualize_transition\u001b[0m\n",
      "    return HTML(ani.to_jshtml())\u001b[0m\n",
      "\u001b[0m  File \u001b[0;32m/opt/conda/lib/python3.10/site-packages/matplotlib/animation.py:1330\u001b[0m in \u001b[0;35mto_jshtml\u001b[0m\n",
      "    self.save(str(path), writer=writer)\u001b[0m\n",
      "\u001b[0m  File \u001b[0;32m/opt/conda/lib/python3.10/site-packages/matplotlib/animation.py:1082\u001b[0m in \u001b[0;35msave\u001b[0m\n",
      "    anim._draw_next_frame(d, blit=False)\u001b[0m\n",
      "\u001b[0m  File \u001b[0;32m/opt/conda/lib/python3.10/site-packages/matplotlib/animation.py:1117\u001b[0m in \u001b[0;35m_draw_next_frame\u001b[0m\n",
      "    self._draw_frame(framedata)\u001b[0m\n",
      "\u001b[0m  File \u001b[0;32m/opt/conda/lib/python3.10/site-packages/matplotlib/animation.py:1744\u001b[0m in \u001b[0;35m_draw_frame\u001b[0m\n",
      "    self._drawn_artists = self._func(framedata, *self._args)\u001b[0m\n",
      "\u001b[0m  File \u001b[0;32m/opt/conda/lib/python3.10/site-packages/qiskit/visualization/transition_visualization.py:336\u001b[0m in \u001b[0;35manimate\u001b[0m\n",
      "    sphere.make_sphere()\u001b[0m\n",
      "\u001b[0m  File \u001b[0;32m/opt/conda/lib/python3.10/site-packages/qiskit/visualization/bloch.py:401\u001b[0m in \u001b[0;35mmake_sphere\u001b[0m\n",
      "    self.render()\u001b[0m\n",
      "\u001b[0m  File \u001b[0;32m/opt/conda/lib/python3.10/site-packages/qiskit/visualization/bloch.py:448\u001b[0m in \u001b[0;35mrender\u001b[0m\n",
      "    self.plot_points()\u001b[0m\n",
      "\u001b[1;36m  File \u001b[1;32m/opt/conda/lib/python3.10/site-packages/qiskit/visualization/bloch.py:625\u001b[1;36m in \u001b[1;35mplot_points\u001b[1;36m\n",
      "\u001b[1;33m    if any(abs(dist - dist[0]) / dist[0] > 1e-12):\u001b[1;36m\n",
      "\u001b[1;31mIndexError\u001b[0m\u001b[1;31m:\u001b[0m list index out of range\n",
      "\n",
      "Use %tb to get the full traceback.\n"
     ]
    },
    {
     "data": {
      "text/html": [
       "\n",
       "<style>\n",
       ".button {\n",
       "  border: none;\n",
       "  color: white;\n",
       "  padding: 4px 8px;\n",
       "  text-align: center;\n",
       "  text-decoration: none;\n",
       "  display: inline-block;\n",
       "  font-size: 12px;\n",
       "  margin: 4px 2px;\n",
       "  transition-duration: 0.2s;\n",
       "  cursor: pointer;\n",
       "}\n",
       ".iqx-button {\n",
       "  background-color: #0f62fe; \n",
       "  color: white; \n",
       "}\n",
       ".iqx-button:hover {\n",
       "  background-color: #0043ce;\n",
       "  color: white;\n",
       "}\n",
       "</style>\n",
       "<a href=\"https://stackoverflow.com/search?q=IndexError: list index out of range\" target='_blank'><button class='button iqx-button'>Search for solution online</button></a>\n"
      ],
      "text/plain": [
       "<IPython.core.display.HTML object>"
      ]
     },
     "metadata": {},
     "output_type": "display_data"
    }
   ],
   "source": [
    "qc=QuantumCircuit(1)\n",
    "qc.h(0)\n",
    "qc.s(0)\n",
    "qc.z(0)\n",
    "from qiskit.visualization import visualize_transition\n",
    "visualize_transition(qc,trace=True,saveas=\"1 xgate.mp4\",fpg=120,spg=2)"
   ]
  },
  {
   "cell_type": "code",
   "execution_count": null,
   "id": "b102275b-f243-4e31-b354-a10115f3b76c",
   "metadata": {},
   "outputs": [],
   "source": []
  }
 ],
 "metadata": {
  "kernelspec": {
   "display_name": "Python 3 (ipykernel)",
   "language": "python",
   "name": "python3"
  },
  "language_info": {
   "codemirror_mode": {
    "name": "ipython",
    "version": 3
   },
   "file_extension": ".py",
   "mimetype": "text/x-python",
   "name": "python",
   "nbconvert_exporter": "python",
   "pygments_lexer": "ipython3",
   "version": "3.10.8"
  },
  "widgets": {
   "application/vnd.jupyter.widget-state+json": {
    "state": {
     "07cb1cbb1aa24e128a5c9c6a627bfcfe": {
      "model_module": "@jupyter-widgets/controls",
      "model_module_version": "2.0.0",
      "model_name": "HTMLStyleModel",
      "state": {
       "description_width": "",
       "font_size": null,
       "text_color": null
      }
     },
     "0cbd650d2dcf4d35a05a8a7480fa5731": {
      "model_module": "@jupyter-widgets/base",
      "model_module_version": "2.0.0",
      "model_name": "LayoutModel",
      "state": {
       "width": "190px"
      }
     },
     "1b5c0e1b1ca745e6a89da36c88eb3350": {
      "model_module": "@jupyter-widgets/base",
      "model_module_version": "2.0.0",
      "model_name": "LayoutModel",
      "state": {
       "margin": "0px 0px 0px 37px",
       "width": "600px"
      }
     },
     "2b3e502006a541b8b785aae6ba1f8a35": {
      "model_module": "@jupyter-widgets/base",
      "model_module_version": "2.0.0",
      "model_name": "LayoutModel",
      "state": {}
     },
     "2e68a9fd5557444bb717187251525687": {
      "model_module": "@jupyter-widgets/base",
      "model_module_version": "2.0.0",
      "model_name": "LayoutModel",
      "state": {
       "grid_template_areas": "\n                                       \". . . . right \"\n                                        ",
       "grid_template_columns": "20% 20% 20% 20% 20%",
       "width": "100%"
      }
     },
     "37ce6280c63b4d8a985d284401381c55": {
      "model_module": "@jupyter-widgets/controls",
      "model_module_version": "2.0.0",
      "model_name": "ButtonModel",
      "state": {
       "button_style": "primary",
       "description": "Clear",
       "layout": "IPY_MODEL_44cb1d7424ec452c842afc0734f3a471",
       "style": "IPY_MODEL_8e98eb181b6d4d86b518e66f58660ed4",
       "tooltip": null
      }
     },
     "448d895aaefd40408c35515fe529a7ae": {
      "model_module": "@jupyter-widgets/controls",
      "model_module_version": "2.0.0",
      "model_name": "HTMLStyleModel",
      "state": {
       "description_width": "",
       "font_size": null,
       "text_color": null
      }
     },
     "44cb1d7424ec452c842afc0734f3a471": {
      "model_module": "@jupyter-widgets/base",
      "model_module_version": "2.0.0",
      "model_name": "LayoutModel",
      "state": {
       "grid_area": "right",
       "padding": "0px 0px 0px 0px",
       "width": "70px"
      }
     },
     "5ac4e08197874c25a008d75de8da1c6d": {
      "model_module": "@jupyter-widgets/controls",
      "model_module_version": "2.0.0",
      "model_name": "HTMLModel",
      "state": {
       "layout": "IPY_MODEL_b4c37d2f0bb94380a317f5ba58326787",
       "style": "IPY_MODEL_bfb22a5f12db4128b409f9416cb43f76",
       "value": "<h5>Status</h5>"
      }
     },
     "63a04ee76e224790b0a4f4ca0622b74a": {
      "model_module": "@jupyter-widgets/controls",
      "model_module_version": "2.0.0",
      "model_name": "HTMLModel",
      "state": {
       "layout": "IPY_MODEL_0cbd650d2dcf4d35a05a8a7480fa5731",
       "style": "IPY_MODEL_448d895aaefd40408c35515fe529a7ae",
       "value": "<h5>Job ID</h5>"
      }
     },
     "64722c44d98248ff84fa0d870374dc0c": {
      "model_module": "@jupyter-widgets/base",
      "model_module_version": "2.0.0",
      "model_name": "LayoutModel",
      "state": {
       "width": "70px"
      }
     },
     "7ca5bf8bd8b5421a83d0e1c7909dff88": {
      "model_module": "@jupyter-widgets/controls",
      "model_module_version": "2.0.0",
      "model_name": "GridBoxModel",
      "state": {
       "children": [
        "IPY_MODEL_37ce6280c63b4d8a985d284401381c55"
       ],
       "layout": "IPY_MODEL_2e68a9fd5557444bb717187251525687"
      }
     },
     "7ddb0f64eedd4e9180ee79d3107b9fdf": {
      "model_module": "@jupyter-widgets/base",
      "model_module_version": "2.0.0",
      "model_name": "LayoutModel",
      "state": {
       "width": "145px"
      }
     },
     "81ef107b175a448494e2b48d22424e7b": {
      "model_module": "@jupyter-widgets/controls",
      "model_module_version": "2.0.0",
      "model_name": "HBoxModel",
      "state": {
       "children": [
        "IPY_MODEL_63a04ee76e224790b0a4f4ca0622b74a",
        "IPY_MODEL_e2851fc5000944ed92bc60918bd24ef8",
        "IPY_MODEL_5ac4e08197874c25a008d75de8da1c6d",
        "IPY_MODEL_8d64f4d63f21415686cc0a859ac6bd61",
        "IPY_MODEL_a55e18014c744a909d0ed9fcfba8c927"
       ],
       "layout": "IPY_MODEL_1b5c0e1b1ca745e6a89da36c88eb3350"
      }
     },
     "8d64f4d63f21415686cc0a859ac6bd61": {
      "model_module": "@jupyter-widgets/controls",
      "model_module_version": "2.0.0",
      "model_name": "HTMLModel",
      "state": {
       "layout": "IPY_MODEL_64722c44d98248ff84fa0d870374dc0c",
       "style": "IPY_MODEL_cef6c4629cd840ecb2700ea4fd3d698b",
       "value": "<h5>Queue</h5>"
      }
     },
     "8e98eb181b6d4d86b518e66f58660ed4": {
      "model_module": "@jupyter-widgets/controls",
      "model_module_version": "2.0.0",
      "model_name": "ButtonStyleModel",
      "state": {
       "font_family": null,
       "font_size": null,
       "font_style": null,
       "font_variant": null,
       "font_weight": null,
       "text_color": null,
       "text_decoration": null
      }
     },
     "9624797c5b2248d9af21fe44ce6a42a5": {
      "model_module": "@jupyter-widgets/controls",
      "model_module_version": "2.0.0",
      "model_name": "HTMLModel",
      "state": {
       "layout": "IPY_MODEL_f613e109a6164025bc05457108c9c50e",
       "style": "IPY_MODEL_07cb1cbb1aa24e128a5c9c6a627bfcfe",
       "value": "<p style='font-family: IBM Plex Sans, Arial, Helvetica, sans-serif; font-size: 20px; font-weight: medium;'>Circuit Properties</p>"
      }
     },
     "9c8ac2bc6d0444d6ad449de9c0b2918e": {
      "model_module": "@jupyter-widgets/controls",
      "model_module_version": "2.0.0",
      "model_name": "HTMLStyleModel",
      "state": {
       "description_width": "",
       "font_size": null,
       "text_color": null
      }
     },
     "a55e18014c744a909d0ed9fcfba8c927": {
      "model_module": "@jupyter-widgets/controls",
      "model_module_version": "2.0.0",
      "model_name": "HTMLModel",
      "state": {
       "layout": "IPY_MODEL_2b3e502006a541b8b785aae6ba1f8a35",
       "style": "IPY_MODEL_9c8ac2bc6d0444d6ad449de9c0b2918e",
       "value": "<h5>Message</h5>"
      }
     },
     "b4c37d2f0bb94380a317f5ba58326787": {
      "model_module": "@jupyter-widgets/base",
      "model_module_version": "2.0.0",
      "model_name": "LayoutModel",
      "state": {
       "width": "95px"
      }
     },
     "bfb22a5f12db4128b409f9416cb43f76": {
      "model_module": "@jupyter-widgets/controls",
      "model_module_version": "2.0.0",
      "model_name": "HTMLStyleModel",
      "state": {
       "description_width": "",
       "font_size": null,
       "text_color": null
      }
     },
     "cef6c4629cd840ecb2700ea4fd3d698b": {
      "model_module": "@jupyter-widgets/controls",
      "model_module_version": "2.0.0",
      "model_name": "HTMLStyleModel",
      "state": {
       "description_width": "",
       "font_size": null,
       "text_color": null
      }
     },
     "e2851fc5000944ed92bc60918bd24ef8": {
      "model_module": "@jupyter-widgets/controls",
      "model_module_version": "2.0.0",
      "model_name": "HTMLModel",
      "state": {
       "layout": "IPY_MODEL_7ddb0f64eedd4e9180ee79d3107b9fdf",
       "style": "IPY_MODEL_fb965f4b1d2747078869a1e70d95a36b",
       "value": "<h5>Backend</h5>"
      }
     },
     "f613e109a6164025bc05457108c9c50e": {
      "model_module": "@jupyter-widgets/base",
      "model_module_version": "2.0.0",
      "model_name": "LayoutModel",
      "state": {
       "margin": "0px 0px 10px 0px"
      }
     },
     "fb965f4b1d2747078869a1e70d95a36b": {
      "model_module": "@jupyter-widgets/controls",
      "model_module_version": "2.0.0",
      "model_name": "HTMLStyleModel",
      "state": {
       "description_width": "",
       "font_size": null,
       "text_color": null
      }
     }
    },
    "version_major": 2,
    "version_minor": 0
   }
  }
 },
 "nbformat": 4,
 "nbformat_minor": 5
}
